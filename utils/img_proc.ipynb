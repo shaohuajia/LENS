{
 "cells": [
  {
   "cell_type": "code",
   "execution_count": 1,
   "metadata": {
    "collapsed": true
   },
   "outputs": [],
   "source": [
    "%matplotlib inline\n",
    "from sklearn.model_selection import train_test_split\n",
    "import numpy as np\n",
    "import os\n",
    "from PIL import Image\n",
    "from scipy import misc\n",
    "import matplotlib.pyplot as plt\n",
    "\n",
    "WIDTH  = 256\n",
    "HEIGHT = 256\n",
    "NUM_CHANNELS = 1"
   ]
  },
  {
   "cell_type": "code",
   "execution_count": 7,
   "metadata": {
    "collapsed": true
   },
   "outputs": [],
   "source": [
    "def load_images(img_path, img_format):   \n",
    "    \n",
    "    im_arrays = []\n",
    "    # Image from PIL library can read an image file as image, then we can operate the image, like resize and grayscale.\n",
    "    imfilelist=[os.path.join(img_path, f) for f in os.listdir(img_path) if f.endswith(img_format)]\n",
    "\n",
    "    for el in imfilelist:\n",
    "        #print el\n",
    "        img = Image.open(el)\n",
    "        #print img.format, img.size, img.mode\n",
    "        img = img.convert('L')\n",
    "        img = img.resize((WIDTH, HEIGHT), resample=2)\n",
    "        im_array = np.array(img)  \n",
    "        # Normalization: The inputs come in as uint8, we need to convert them to float32 in range [0,1].      \n",
    "        im_array = im_array / np.float32(255)  \n",
    "        # The inputs are vectors now, we reshape them to monochrome 2D images,\n",
    "        # following the shape convention: (rows, columns, channels)\n",
    "        im_array = im_array.reshape(WIDTH, HEIGHT, NUM_CHANNELS)\n",
    "        im_arrays.append(im_array)\n",
    "\n",
    "    return np.array(im_arrays)\n",
    "\n",
    "#split data into training, validation and testing set\n",
    "def split_data(inputs_, test_size, val_size, shuffle=False):\n",
    "    ''' Split arrays or matrices into random train and test subsets\n",
    "    \n",
    "        Arguments\n",
    "        ---------\n",
    "        inputs: Sequence of indexables with same length\n",
    "        test_size: If float, should be between 0.0 and 1.0 and represent the proportion of the dataset\n",
    "                   to include in the test split. If int, represents the absolute number of test samples.\n",
    "                   If None, the value is set to the complement of the train size\n",
    "        val_size:  Same as above\n",
    "        shuffle:   Whether or not to shuffle the data before splitting\n",
    "    \n",
    "    '''\n",
    "    X_train, X_test = train_test_split(inputs_, test_size=test_size, shuffle=shuffle)\n",
    "    X_train, X_validation = train_test_split(X_train, test_size=val_size, shuffle=shuffle)\n",
    "    return X_train, X_validation, X_test\n",
    "\n",
    "#display a few images for sanity check\n",
    "def check_data(inputs_, nrows=1, ncols=5, figsize=(20,4)):\n",
    "    \n",
    "    fig, ax = plt.subplots(nrows=nrows, ncols=ncols, sharex=True, sharey=True, figsize=figsize)\n",
    "    ax = ax.flatten()\n",
    "    num = nrows * ncols\n",
    "    for i in range(num):\n",
    "        img = inputs_[i]\n",
    "        if(NUM_CHANNELS == 1):\n",
    "            ax[i].imshow(np.array(img).reshape(WIDTH, HEIGHT), cmap='Greys_r')\n",
    "        else:\n",
    "            ax[i].imshow(np.array(img).reshape(WIDTH, HEIGHT, NUM_CHANNELS))\n",
    "        ax[i].get_xaxis().set_visible(False)\n",
    "        ax[i].get_yaxis().set_visible(False)\n",
    "        fig.tight_layout(pad=0.1)\n",
    "\n",
    "#get batch data for training\n",
    "def iterate_minibatches(inputs, batchsize, shuffle=False):\n",
    "    if shuffle:\n",
    "        indices = np.arange(len(inputs))\n",
    "        np.random.shuffle(indices)\n",
    "    for start_idx in range(0, len(inputs) - batchsize + 1, batchsize):\n",
    "        if shuffle:\n",
    "            excerpt = indices[start_idx:start_idx + batchsize]\n",
    "        else:\n",
    "            excerpt = slice(start_idx, start_idx + batchsize)\n",
    "            #print(excerpt)\n",
    "        yield inputs[excerpt]"
   ]
  }
 ],
 "metadata": {
  "kernelspec": {
   "display_name": "Python 2",
   "language": "python",
   "name": "python2"
  },
  "language_info": {
   "codemirror_mode": {
    "name": "ipython",
    "version": 2
   },
   "file_extension": ".py",
   "mimetype": "text/x-python",
   "name": "python",
   "nbconvert_exporter": "python",
   "pygments_lexer": "ipython2",
   "version": "2.7.12"
  }
 },
 "nbformat": 4,
 "nbformat_minor": 2
}
