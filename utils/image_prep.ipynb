{
 "cells": [
  {
   "cell_type": "code",
   "execution_count": 44,
   "metadata": {
    "collapsed": true
   },
   "outputs": [],
   "source": [
    "%matplotlib inline\n",
    "import numpy as np\n",
    "import os\n",
    "import glob as glob\n",
    "import shutil\n",
    "import zipfile\n",
    "from PIL import Image\n",
    "from PIL import ImageOps\n",
    "from scipy import misc\n",
    "import matplotlib.pyplot as plt"
   ]
  },
  {
   "cell_type": "markdown",
   "metadata": {},
   "source": [
    "### read, resize, transform, rename and save images"
   ]
  },
  {
   "cell_type": "code",
   "execution_count": 46,
   "metadata": {},
   "outputs": [],
   "source": [
    "WIDTH  = 256\n",
    "HEIGHT = 256\n",
    "NUM_CHANNELS = 1\n",
    "\n",
    "IMG_FORMAT=\".jpeg\"\n",
    "PATH=\"../data/LENS/images/\"\n",
    "\n",
    "def unzipfiles():\n",
    "\n",
    "    # extract files from a zip file and save them to a specified directory\n",
    "    myzip = zipfile.ZipFile(\"../data/LENS/temp1.zip\", \"r\")\n",
    "    myzip.extractall(path = \"../data/LENS/pre_train/\")\n",
    "    #for name in myzip.namelist():\n",
    "    #    print name\n",
    "    myzip.close()\n",
    "    \n",
    "def load_images():   \n",
    "\n",
    "    counter = 0\n",
    "    # Image from PIL library can read an image file as image, then we can operate the image, like resize and grayscale.\n",
    "    imfilelist=[os.path.join(PATH,f) for f in os.listdir(PATH) if f.endswith(IMG_FORMAT)]\n",
    "    print(len(imfilelist))\n",
    "    \n",
    "    for el in imfilelist:\n",
    "        counter = counter + 1\n",
    "        img = Image.open(el)\n",
    "        #print img.format, img.size, img.mode\n",
    "        #img = img.convert('L')\n",
    "        #img = img.resize((WIDTH, HEIGHT), resample=2) \n",
    "\n",
    "        #img1 = ImageOps.flip(img)\n",
    "        img2 = ImageOps.mirror(img)\n",
    "        #img3 = img.rotate(90)\n",
    "        #img4 = img.rotate(-90)\n",
    "        \n",
    "        '''\n",
    "        fig, ax = plt.subplots(nrows=2, ncols=3, sharex=True, sharey=True, figsize=(20,8))\n",
    "        ax = ax.flatten()\n",
    "        ax[0].imshow(img, cmap='gray')\n",
    "        ax[1].imshow(img1, cmap='gray')\n",
    "        ax[2].imshow(img2, cmap='gray')\n",
    "        ax[3].imshow(img3, cmap='gray')\n",
    "        ax[4].imshow(img4, cmap='gray')\n",
    "        plt.tight_layout()\n",
    "        plt.show()\n",
    "        \n",
    "        '''\n",
    "        img2.save(\"../data/LENS/augment/origmirror\" + str(counter) + \".jpeg\")\n",
    "        \n",
    "def copyfiles():\n",
    "    \n",
    "    for file in glob.glob('../data/LENS/train_ae/*.jpeg'):\n",
    "        shutil.copy(file, '../data/LENS/augment/')\n",
    "        \n",
    "# archive all files in a specified directory to backup\n",
    "def zipdir(path):\n",
    "    \n",
    "    zipf = zipfile.ZipFile('../data/LENS/databackup.zip', 'w', zipfile.ZIP_DEFLATED)\n",
    "    # ziph is zipfile handle\n",
    "    for root, dirs, files in os.walk(path):\n",
    "        for file in files:\n",
    "            zipf.write(os.path.join(root, file))\n",
    "    zipf.close()"
   ]
  },
  {
   "cell_type": "code",
   "execution_count": 47,
   "metadata": {},
   "outputs": [],
   "source": [
    "#load_images()\n",
    "#copyfiles()\n",
    "#zipdir('../data/LENS/train_ae/')"
   ]
  },
  {
   "cell_type": "code",
   "execution_count": 4,
   "metadata": {
    "collapsed": true
   },
   "outputs": [],
   "source": [
    "# delete an unempty directory\n",
    "#shutil.rmtree(\"../data/LENS/pre_train\")"
   ]
  },
  {
   "cell_type": "code",
   "execution_count": 73,
   "metadata": {
    "collapsed": true
   },
   "outputs": [],
   "source": [
    "def iterate_minibatches(inputs, batchsize, shuffle=False):\n",
    "    if shuffle:\n",
    "        indices = np.arange(len(inputs))\n",
    "        np.random.shuffle(indices)\n",
    "        print(indices)\n",
    "    for start_idx in range(0, len(inputs) - batchsize + 1, batchsize):\n",
    "        if shuffle:\n",
    "            excerpt = indices[start_idx:start_idx + batchsize]\n",
    "        else:\n",
    "            excerpt = slice(start_idx, start_idx + batchsize)\n",
    "            #print(excerpt)\n",
    "        yield inputs[excerpt]"
   ]
  },
  {
   "cell_type": "code",
   "execution_count": 77,
   "metadata": {},
   "outputs": [
    {
     "name": "stdout",
     "output_type": "stream",
     "text": [
      "[0 4 5 6 2 3 8 1 7]\n",
      "[10 20 25]\n",
      "[23 15 18]\n",
      "[31 12 26]\n"
     ]
    }
   ],
   "source": [
    "inputs = [10, 12, 15, 18, 20, 25, 23, 26, 31]\n",
    "inputs = np.array(inputs)\n",
    "for batch in iterate_minibatches(inputs, 3, shuffle=True):\n",
    "    print batch"
   ]
  }
 ],
 "metadata": {
  "kernelspec": {
   "display_name": "Python 2",
   "language": "python",
   "name": "python2"
  },
  "language_info": {
   "codemirror_mode": {
    "name": "ipython",
    "version": 2
   },
   "file_extension": ".py",
   "mimetype": "text/x-python",
   "name": "python",
   "nbconvert_exporter": "python",
   "pygments_lexer": "ipython2",
   "version": "2.7.12"
  }
 },
 "nbformat": 4,
 "nbformat_minor": 2
}
