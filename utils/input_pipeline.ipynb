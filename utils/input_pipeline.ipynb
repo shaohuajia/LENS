{
 "cells": [
  {
   "cell_type": "code",
   "execution_count": null,
   "metadata": {
    "collapsed": true
   },
   "outputs": [],
   "source": [
    "%matplotlib inline\n",
    "import numpy as np\n",
    "import os\n",
    "from scipy import misc\n",
    "import tensorflow as tf\n",
    "import matplotlib.pyplot as plt\n",
    "\n",
    "def generate_batch():\n",
    "    filenames = tf.train.match_filenames_once(\"../data/LENS/images/*.jpeg\")\n",
    "    filename_queue = tf.train.string_input_producer(filenames)\n",
    "    reader=tf.WholeFileReader()\n",
    "    key, value=reader.read(filename_queue)\n",
    "    img_uint8 = tf.image.decode_jpeg(value, channels=1)\n",
    "    #img = tf.divide(img_uint8, np.float32(256))\n",
    "    #img = img_uint8\n",
    "    #print(img.dtype)\n",
    "    \n",
    "    #TODO:\n",
    "    #When training cost is so much high maybe becuase of the way of conversion from uint8 to float32\n",
    "    img = tf.cast(img_uint8, tf.float32)\n",
    "    img.set_shape([256,256,1])\n",
    "    # Subtract off the mean and divide by the variance of the pixels.\n",
    "    #img = tf.image.per_image_standardization(img)\n",
    "    # minimum number elements in the queue after a dequeue, used to ensure \n",
    "    # that the samples are sufficiently mixed I think 10 times the BATCH_SIZE is sufficient\n",
    "    min_after_dequeue = 3 * BATCH_SIZE\n",
    "    # the maximum number of elements in the queue\n",
    "    capacity = 20 * BATCH_SIZE\n",
    "    # shuffle the data to generate BATCH_SIZE samples\n",
    "    data_batch = tf.train.shuffle_batch([img], batch_size=BATCH_SIZE, capacity=capacity, \n",
    "                                    min_after_dequeue=min_after_dequeue)\n",
    "    return data_batch\n",
    "    \n",
    "\n",
    "data_batch = generate_batch()\n",
    "#data_batch = np.reshape(batch, [10,256,256,1])\n",
    "\n",
    "init = (tf.global_variables_initializer(), tf.local_variables_initializer())\n",
    "with tf.Session() as sess:\n",
    "    sess.run(init)\n",
    "    coord = tf.train.Coordinator()\n",
    "    threads = tf.train.start_queue_runners(coord = coord)\n",
    "    #print(sess.run(key))\n",
    "    #for _ in range(1):\n",
    "    imgs_batch = sess.run(data_batch)\n",
    "    print(imgs_batch.shape)\n",
    "    coord.request_stop()\n",
    "    coord.join(threads)\n",
    "    \n",
    "\n",
    "    for img in imgs_batch:\n",
    "        image = np.reshape(img, (256,256))\n",
    "        \n",
    "        f, ax = plt.subplots(1,2)\n",
    "        ax[0].imshow(image, cmap='Greys_r')\n",
    "        ax[1].imshow(image, cmap='Greys_r')"
   ]
  }
 ],
 "metadata": {
  "kernelspec": {
   "display_name": "Python 2",
   "language": "python",
   "name": "python2"
  },
  "language_info": {
   "codemirror_mode": {
    "name": "ipython",
    "version": 2
   },
   "file_extension": ".py",
   "mimetype": "text/x-python",
   "name": "python",
   "nbconvert_exporter": "python",
   "pygments_lexer": "ipython2",
   "version": "2.7.12"
  }
 },
 "nbformat": 4,
 "nbformat_minor": 2
}
